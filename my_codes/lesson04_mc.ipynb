{
 "metadata": {
  "name": "",
  "signature": "sha256:5c0cb9772ca167ed778ac0d10822633ec3729f29ad3f4a6ed4b1cdef2bfdad86"
 },
 "nbformat": 3,
 "nbformat_minor": 0,
 "worksheets": [
  {
   "cells": [
    {
     "cell_type": "markdown",
     "metadata": {},
     "source": [
      "###Vortex\n",
      "\n",
      "A vortex is motion in circular streamlines. These streamlines are concentric circles about a given point\u2014what's confusing is that this _does not mean_ that fluid elements are themselves rotating!\n",
      "\n",
      "In an irrotational vortex, the tangential velocity is constant along a (circular) streamline and inversely proportional to the radius.  \n",
      "\n",
      "$$u_r\\left(r,\\theta\\right) = 0 \\quad \\text{,} \\quad u_\\theta\\left(r,\\theta\\right) = \\frac{\\text{constant}}{r}$$\n",
      "\n",
      "The vorticity is zero everywhere, except at the location of the point vortex, where it is infinite.\n",
      "\n",
      "Let's use circulation to get the velocity. Around any circular streamline enclosing the vortex, and using the sign convention that a negative vortex circulates anti-clockwise, we have:\n",
      "\n",
      "$$\\Gamma = -\\oint \\mathbf{v}\\cdot d\\vec{l} = -u_\\theta 2 \\pi r$$\n",
      "\n",
      "So the constant in the velocity definition is equal to $\\Gamma/2\\pi$, and \n",
      "\n",
      "$$u_\\theta\\left(r,\\theta\\right) = \\frac{\\Gamma}{2\\pi r}$$\n",
      "\n",
      "We can get the stream function by integrating the velocity components:\n",
      "\n",
      "$$\\psi\\left(r,\\theta\\right) = \\frac{\\Gamma}{2\\pi}\\ln r$$\n",
      "\n",
      "In Cartesian coordinates, the stream function is\n",
      "\n",
      "$$\\psi\\left(x,y\\right) = \\frac{\\Gamma}{4\\pi}\\ln\\left(x^2+y^2\\right)$$\n",
      "\n",
      "while the velocity components are ($u=\\partial \\psi / \\partial y$ and $v=-\\partial \\psi / \\partial x$)\n",
      "\n",
      "$$u\\left(x,y\\right) = \\frac{\\Gamma}{2\\pi}\\frac{y}{x^2+y^2} \\qquad v\\left(x,y\\right) = -\\frac{\\Gamma}{2\\pi}\\frac{x}{x^2+y^2}$$"
     ]
    },
    {
     "cell_type": "markdown",
     "metadata": {},
     "source": [
      "###Let's code the vortex"
     ]
    },
    {
     "cell_type": "code",
     "collapsed": false,
     "input": [],
     "language": "python",
     "metadata": {},
     "outputs": []
    }
   ],
   "metadata": {}
  }
 ]
}