{
 "metadata": {
  "name": "",
  "signature": "sha256:722807086993872c69ff0991d86e1048105164f54bc1c5663b89e2e971083e45"
 },
 "nbformat": 3,
 "nbformat_minor": 0,
 "worksheets": [
  {
   "cells": [
    {
     "cell_type": "markdown",
     "metadata": {},
     "source": [
      "###Doublet\n",
      "\n",
      "We'll think in a pair source-sink but now we'll observe it from far away. Then, the distance between the source and the sink approaches zero. The pattern that we observe in this limit is called *doublet*."
     ]
    },
    {
     "cell_type": "code",
     "collapsed": false,
     "input": [
      "#Importing libraries and modules we need\n",
      "\n",
      "import numpy\n",
      "from matplotlib import pyplot"
     ],
     "language": "python",
     "metadata": {},
     "outputs": [],
     "prompt_number": 1
    },
    {
     "cell_type": "markdown",
     "metadata": {},
     "source": [
      "Let's consider a source of strength $\\sigma$ at $\\left(-\\frac{l}{2}, 0\\right)$ and a sink of stregth $-\\sigma$ at $\\left(\\frac{l}{2}, 0\\right)$.\n",
      "\n",
      " <center>![image](files/resources/doubletSketch1.png)</center>"
     ]
    },
    {
     "cell_type": "markdown",
     "metadata": {},
     "source": [
      "The stream-function for the source-sink pair, evaluated at point $\\text{P}\\left(x,y\\right)$, is\n",
      "\n",
      "$$\\psi\\left(x,y\\right) = \\frac{\\sigma}{2\\pi}\\left(\\theta_1-\\theta_2\\right) = -\\frac{\\sigma}{2\\pi}\\Delta\\theta$$\n",
      "\n",
      "Let the distance $l$ between the two singularities approach zero while the strength magnitude is increasing so that the product $\\sigma l$ remains constant. In the limit, this flow pattern is a *doublet* and we define its strength by $\\kappa = \\sigma l$.\n",
      "\n",
      "The stream-function of a doublet, evaluated at point $\\text{P}\\left(x,y\\right)$, is given by\n",
      "\n",
      "$$\\psi\\left(x,y\\right) = \\lim \\limits_{l \\to 0} \\left(-\\frac{\\sigma}{2\\pi}d\\theta\\right) \\quad \\text{and} \\quad \\sigma l = \\text{constant}$$\n",
      "\n",
      "<center>![image](files/resources/doubletSketch2.png)</center>\n",
      "\n",
      "If we consider $d\\theta$ really small, then $d\\theta \\sin(d\\theta) \\approx d\\theta$. Then,\n",
      "\n",
      "$$a = l\\sin\\theta$$\n",
      "\n",
      "$$b = r-l\\cos\\theta$$\n",
      "\n",
      "$$d\\theta = \\frac{a}{b} = \\frac{l\\sin\\theta}{r-l\\cos\\theta}$$\n",
      "\n",
      "so the stream function becomes\n",
      "\n",
      "$$\\psi\\left(r,\\theta\\right) = \\lim \\limits_{l \\to 0} \\left(-\\frac{\\sigma l}{2\\pi}\\frac{\\sin\\theta}{r-l\\cos\\theta}\\right) \\quad \\text{and} \\quad \\sigma l = \\text{constant}$$\n",
      "\n",
      "i.e.\n",
      "\n",
      "$$\\psi\\left(r,\\theta\\right) = -\\frac{\\kappa}{2\\pi}\\frac{\\sin\\theta}{r}$$\n",
      "\n",
      "In Cartesian coordinates, a doublet located at the origin has the stream function\n",
      "\n",
      "$$\\psi\\left(x,y\\right) = -\\frac{\\kappa}{2\\pi}\\frac{y}{x^2+y^2}$$\n",
      "\n",
      "from which we can derive the velocity components\n",
      "\n",
      "$$u\\left(x,y\\right) = \\frac{\\partial\\psi}{\\partial y} = -\\frac{\\kappa}{2\\pi}\\frac{x^2-y^2}{\\left(x^2+y^2\\right)^2}$$\n",
      "\n",
      "$$v\\left(x,y\\right) = -\\frac{\\partial\\psi}{\\partial x} = -\\frac{\\kappa}{2\\pi}\\frac{2xy}{\\left(x^2+y^2\\right)^2}$$\n"
     ]
    },
    {
     "cell_type": "code",
     "collapsed": false,
     "input": [],
     "language": "python",
     "metadata": {},
     "outputs": []
    }
   ],
   "metadata": {}
  }
 ]
}