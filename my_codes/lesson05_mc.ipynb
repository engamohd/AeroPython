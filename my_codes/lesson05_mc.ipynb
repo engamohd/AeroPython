{
 "metadata": {
  "name": "",
  "signature": "sha256:88f8f50b5e7a87d21b91ece6e926f2a18604c3c025e9967544a69760bc1fe4bf"
 },
 "nbformat": 3,
 "nbformat_minor": 0,
 "worksheets": []
}