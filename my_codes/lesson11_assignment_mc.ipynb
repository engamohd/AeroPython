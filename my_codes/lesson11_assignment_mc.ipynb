{
 "metadata": {
  "name": "",
  "signature": "sha256:238eb56c9f008413ef48a908f342fb58d159eea622b0e7bc7f8f5a3645d42d1a"
 },
 "nbformat": 3,
 "nbformat_minor": 0,
 "worksheets": [
  {
   "cells": [
    {
     "cell_type": "code",
     "collapsed": false,
     "input": [
      "#Importing the libraries and modules we need.\n",
      "import numpy\n",
      "from scipy import integrate, linalg\n",
      "from matplotlib import pyplot\n",
      "#The next line allows as to plot directly in the notebook.\n",
      "%matplotlib inline"
     ],
     "language": "python",
     "metadata": {},
     "outputs": [],
     "prompt_number": 39
    },
    {
     "cell_type": "code",
     "collapsed": false,
     "input": [
      "# loading the geometry from a data file\n",
      "x_airfoil, y_airfoil = numpy.loadtxt('./resources/MainFoil_N=200.csv', dtype=float, delimiter=',', unpack=True)\n",
      "x_flap, y_flap = numpy.loadtxt('./resources/FlapFoil_N=200.csv',dtype=float, delimiter=',', unpack=True)\n"
     ],
     "language": "python",
     "metadata": {},
     "outputs": [],
     "prompt_number": 40
    },
    {
     "cell_type": "code",
     "collapsed": false,
     "input": [
      "# plots the geometry\n",
      "%matplotlib inline\n",
      "\n",
      "val_x, val_y = 0.1, 0.2\n",
      "x_min, x_max = x_airfoil.min(), x_flap.max()\n",
      "y_min, y_max = y_flap.min(), y_airfoil.max()\n",
      "x_start, x_end = x_min-val_x*(x_max-x_min), x_max+val_x*(x_max-x_min)\n",
      "y_start, y_end = y_min-val_y*(y_max-y_min), y_max+val_y*(y_max-y_min)\n",
      "\n",
      "size = 10\n",
      "pyplot.figure(figsize=(size, (y_end-y_start)/(x_end-x_start)*size))\n",
      "pyplot.grid(True)\n",
      "pyplot.xlabel('x', fontsize=16)\n",
      "pyplot.ylabel('y', fontsize=16)\n",
      "pyplot.xlim(x_start, x_end)\n",
      "pyplot.ylim(y_start, y_end)\n",
      "\n",
      "pyplot.plot(x_airfoil, y_airfoil, color='deeppink', linestyle='-', linewidth=2)\n",
      "pyplot.plot(x_flap, y_flap, color='deeppink', linestyle='-', linewidth=2);"
     ],
     "language": "python",
     "metadata": {},
     "outputs": [
      {
       "metadata": {},
       "output_type": "display_data",
       "png": "[encoded data removed]",
       "text": [
        "<matplotlib.figure.Figure at 0x7fd922abde90>"
       ]
      }
     ],
     "prompt_number": 41
    },
    {
     "cell_type": "code",
     "collapsed": false,
     "input": [
      "class Panel:\n",
      "    \"\"\"Contains information related to a panel.\"\"\"\n",
      "    def __init__(self, xa, ya, xb, yb):\n",
      "        \"\"\"Creates a panel.\n",
      "        \n",
      "        Arguments\n",
      "        ---------\n",
      "        xa, ya: Cartesian coordinates of the first end-point.\n",
      "        xb, yb: Cartesian coordinates of the second end-point.\n",
      "        \"\"\"\n",
      "        self.xa, self.ya = xa, ya\n",
      "        self.xb, self.yb = xb, yb\n",
      "        \n",
      "        self.xc, self.yc = (xa+xb)/2, (ya+yb)/2            # control-point (center-point)\n",
      "        self.length = numpy.sqrt((xb-xa)**2+(yb-ya)**2)     # length of the panel\n",
      "        \n",
      "        # orientation of the panel (angle between x-axis and panel's normal)\n",
      "        if xb-xa <= 0.:\n",
      "            self.beta = numpy.arccos((yb-ya)/self.length)\n",
      "        elif xb-xa > 0.:\n",
      "            self.beta = numpy.pi + numpy.arccos(-(yb-ya)/self.length)\n",
      "        \n",
      "        # location of the panel\n",
      "        if self.beta <= numpy.pi:\n",
      "            self.loc = 'extrados'                   #upper face\n",
      "        else:\n",
      "            self.loc = 'intrados'                   #lower face\n",
      "        \n",
      "        self.sigma = 0.                             # source strength\n",
      "        self.vt = 0.                                # tangential velocity\n",
      "        self.cp = 0.                                # pressure coefficient"
     ],
     "language": "python",
     "metadata": {},
     "outputs": [],
     "prompt_number": 42
    },
    {
     "cell_type": "code",
     "collapsed": false,
     "input": [
      "def define_panels(x ,y ,N):\n",
      "    \"\"\"Discretizes the geometry into panels using 'cosine' method.\n",
      "    \n",
      "    Arguments\n",
      "    ---------\n",
      "    x, y : Cartesian coordinates of the geometry (1d arrays).\n",
      "    N: number of panels (40 by default)\n",
      "    \n",
      "    Returns\n",
      "    -------\n",
      "    panels: Numpy array of panels\n",
      "    \"\"\"\n",
      "    \n",
      "    x, y = numpy.append(x, x[0]), numpy.append(y, y[0])    # extend arrays using numpy.append\n",
      "    \n",
      "    panels = numpy.empty(N, dtype=object)\n",
      "    for i in range(N):\n",
      "        panels[i] = Panel(x[i], y[i], x[i+1], y[i+1])\n",
      "    \n",
      "    return panels    "
     ],
     "language": "python",
     "metadata": {},
     "outputs": [],
     "prompt_number": 43
    },
    {
     "cell_type": "code",
     "collapsed": false,
     "input": [
      "Np=200\n",
      "\n",
      "panels_airfoil = define_panels(x_airfoil, y_airfoil, Np)   # discretizes of the airfoil into panels\n",
      "\n",
      "panels_flap = define_panels(x_flap, y_flap, Np)   # discretizes of the flap into panels\n",
      "\n",
      "#print numpy.shape(panels_airfoil)"
     ],
     "language": "python",
     "metadata": {},
     "outputs": [],
     "prompt_number": 44
    },
    {
     "cell_type": "code",
     "collapsed": false,
     "input": [
      "\n",
      "# plots the geometry and the panels\n",
      "val_x, val_y = 0.1, 0.2\n",
      "x_min, x_max = min( panel.xa for panel in panels_airfoil ), max( panel.xa for panel in panels_flap )\n",
      "y_min, y_max = min( panel.ya for panel in panels_flap ), max( panel.ya for panel in panels_airfoil )\n",
      "x_start, x_end = x_min-val_x*(x_max-x_min), x_max+val_x*(x_max-x_min)\n",
      "y_start, y_end = y_min-val_y*(y_max-y_min), y_max+val_y*(y_max-y_min)\n",
      "\n",
      "size = 10\n",
      "pyplot.figure(figsize=(size, (y_end-y_start)/(x_end-x_start)*size))\n",
      "pyplot.grid(True)\n",
      "pyplot.xlabel('x', fontsize=16)\n",
      "pyplot.ylabel('y', fontsize=16)\n",
      "pyplot.xlim(x_start, x_end)\n",
      "pyplot.ylim(y_start, y_end)\n",
      "\n",
      "pyplot.plot(x_airfoil, y_airfoil, color='k', linestyle='-', linewidth=2)\n",
      "pyplot.plot(numpy.append([panel.xa for panel in panels_airfoil], panels_airfoil[0].xa), \n",
      "         numpy.append([panel.ya for panel in panels_airfoil], panels_airfoil[0].ya), \n",
      "         linestyle='-', linewidth=1, marker='o', markersize=6, color='r');\n",
      "\n",
      "pyplot.plot(x_flap, y_flap, color='k', linestyle='-', linewidth=2)\n",
      "pyplot.plot(numpy.append([panel.xa for panel in panels_flap], panels_flap[0].xa), \n",
      "         numpy.append([panel.ya for panel in panels_flap], panels_flap[0].ya), \n",
      "         linestyle='-', linewidth=1, marker='o', markersize=6, color='b');"
     ],
     "language": "python",
     "metadata": {},
     "outputs": [
      {
       "metadata": {},
       "output_type": "display_data",
       "png": "[encoded data removed]",
       "text": [
        "<matplotlib.figure.Figure at 0x7fd9192e3cd0>"
       ]
      }
     ],
     "prompt_number": 45
    },
    {
     "cell_type": "markdown",
     "metadata": {},
     "source": [
      "##Free stream conditions\n",
      "\n",
      "The airfoil is immersed in a free-stream ($U_\\infty$,$\\alpha$) where $U_\\infty$ and $\\alpha$ are the velocity magnitude and angle of attack, respectively. Like before, we create a class for the free stream, even though we will only have one object that uses this class. It makes it easier to pass the free stream to other functions later on."
     ]
    },
    {
     "cell_type": "code",
     "collapsed": false,
     "input": [
      "class Freestream:\n",
      "    \"\"\"Freestream conditions.\"\"\"\n",
      "    def __init__(self, U_inf=1.0, alpha=0.0):\n",
      "        \"\"\"Sets the freestream conditions.\n",
      "        \n",
      "        Arguments\n",
      "        ---------\n",
      "        U_inf: Farfield speed (default 1.0).\n",
      "        alpha: Angle of attack in degrees (default 0.0).\n",
      "        \"\"\"\n",
      "        self.U_inf = U_inf\n",
      "        self.alpha = alpha*numpy.pi/180          # degrees to radians"
     ],
     "language": "python",
     "metadata": {},
     "outputs": [],
     "prompt_number": 46
    },
    {
     "cell_type": "code",
     "collapsed": false,
     "input": [
      "# defines and creates the object freestream\n",
      "U_inf = 1.0                                # freestream speed\n",
      "alpha = 0.0                                # angle of attack (in degrees)\n",
      "freestream = Freestream(U_inf, alpha)      # instantiation of the object freestream"
     ],
     "language": "python",
     "metadata": {},
     "outputs": [],
     "prompt_number": 47
    },
    {
     "cell_type": "markdown",
     "metadata": {},
     "source": [
      "##Building the linear system\n",
      "\n",
      "Here, we build and solve the linear system of equations of the form\n",
      "\n",
      "$$[A][\\sigma,\\gamma_1,\\gamma_2] = [b]$$\n",
      "\n",
      "where the $N+2 \\times N+2$ matrix $[A]$ contains five blocks: an $N \\times N$ source matrix (the same one of Lesson 10), two $N \\times 1$ vortex array to store the weight of the variable $\\gamma_1$ and other for $\\gamma_2$ ,  at each panel, and two $1 \\times N+1$ Kutta arrays that repesents our Kutta-condition for airfoil and flap respectively.\n",
      "\n",
      "We are going to re-use the function `integral()` from Lesson 10 to compute the different integrals with the SciPy function `integrate.quad()`:"
     ]
    },
    {
     "cell_type": "code",
     "collapsed": false,
     "input": [
      "def integral(x, y, panel, dxdk, dydk):\n",
      "    \"\"\"Evaluates the contribution of a panel at one point.\n",
      "    \n",
      "    Arguments\n",
      "    ---------\n",
      "    x, y: Cartesian coordinates of the point.\n",
      "    panel: panel which contribution is evaluated.\n",
      "    dxdk: derivative of x in the z-direction.\n",
      "    dydk:  derivative of y in the z-direction.\n",
      "    \n",
      "    Returns\n",
      "    -------\n",
      "    Integral over the panel of the influence at one point.\n",
      "    \"\"\"\n",
      "    def func(s):\n",
      "        return ( ((x - (panel.xa - numpy.sin(panel.beta)*s))*dxdk\n",
      "                  +(y - (panel.ya + numpy.cos(panel.beta)*s))*dydk)\n",
      "                / ((x - (panel.xa - numpy.sin(panel.beta)*s))**2\n",
      "                   +(y - (panel.ya + numpy.cos(panel.beta)*s))**2) )\n",
      "    return integrate.quad(lambda s:func(s), 0., panel.length)[0]"
     ],
     "language": "python",
     "metadata": {},
     "outputs": [],
     "prompt_number": 48
    },
    {
     "cell_type": "markdown",
     "metadata": {},
     "source": [
      "Let's concatenate the panels of the airfoil and the flap in one array, so it will be easy to work with it when we build the matrix."
     ]
    },
    {
     "cell_type": "code",
     "collapsed": false,
     "input": [
      "N = 2*Np #Redifining N, so when we do slices in N we are talking about N=N_airfoil+N_flap\n",
      "panels = numpy.concatenate((panels_airfoil, panels_flap))"
     ],
     "language": "python",
     "metadata": {},
     "outputs": [],
     "prompt_number": 49
    },
    {
     "cell_type": "code",
     "collapsed": false,
     "input": [
      "#Let's build the source matrix (normal) \n",
      "\n",
      "def source_matrix_normal(panels):\n",
      "    \"\"\"Builds the source matrix.\n",
      "    \n",
      "    Arguments\n",
      "    ---------\n",
      "    panels: array of panels.\n",
      "    \n",
      "    Returns\n",
      "    -------\n",
      "    A_n: NxN matrix (N is the number of panels).\n",
      "    \"\"\"\n",
      "    N = len(panels)\n",
      "    A_n = numpy.empty((N, N), dtype=float)\n",
      "    numpy.fill_diagonal(A_n, 0.5)\n",
      "    \n",
      "    for i, p_i in enumerate(panels):\n",
      "        for j, p_j in enumerate(panels):\n",
      "            if i != j:\n",
      "                A_n[i,j] = 0.5/numpy.pi*integral(p_i.xc, p_i.yc, p_j, numpy.cos(p_i.beta), numpy.sin(p_i.beta))\n",
      "                \n",
      "    return A_n   "
     ],
     "language": "python",
     "metadata": {},
     "outputs": [],
     "prompt_number": 50
    },
    {
     "cell_type": "code",
     "collapsed": false,
     "input": [
      "#Let's build the vortex matrix (normal), we need it to calculate \n",
      "#some source tangential elements, for the Kutta condition\n",
      "#Also we calculate the vortex array \n",
      "\n",
      "def vortex_matrix_normal(panels):\n",
      "    \"\"\"Builds the vortex matrix.\n",
      "    \n",
      "    Arguments\n",
      "    ---------\n",
      "    panels: array of panels.\n",
      "    \n",
      "    Returns\n",
      "    -------\n",
      "    B_n: NxN matrix (N is the number of panels).\n",
      "    s_bn: 1D array (Nx1, N is the number of panels) \n",
      "         (is the sum over j of the coefficients ).\n",
      "    \"\"\"\n",
      "    N = len(panels)\n",
      "    B_n = numpy.empty((N, N), dtype=float)\n",
      "    numpy.fill_diagonal(B_n, 0.)\n",
      "    \n",
      "    for i, p_i in enumerate(panels):\n",
      "        for j, p_j in enumerate(panels):\n",
      "            if i != j:\n",
      "                B_n[i,j] = -0.5/numpy.pi*integral(p_i.xc, p_i.yc, p_j, numpy.sin(p_i.beta), -numpy.cos(p_i.beta))\n",
      "                \n",
      "    return B_n  \n"
     ],
     "language": "python",
     "metadata": {},
     "outputs": [],
     "prompt_number": 51
    },
    {
     "cell_type": "markdown",
     "metadata": {},
     "source": [
      "Let's build the normal and tangential matrices (Nx(N+2)) where the last 2 columns are the contributions of the vortex part. "
     ]
    },
    {
     "cell_type": "code",
     "collapsed": false,
     "input": [
      "def vortex_arrays_normal(panels, B_n):\n",
      "    \"\"\"Builds the vortex array for normal matrix.\n",
      "    \n",
      "    Arguments\n",
      "    ---------\n",
      "    panels: array of panels.\n",
      "    B_n: NxN matrix (N is the number of panels). Vortex normal matrix\n",
      "    Returns\n",
      "    -------\n",
      "    a -- 1D array (Nx1, N is the number of panels).\n",
      "    \"\"\"\n",
      "    N = len(panels)\n",
      "    a1_n = numpy.zeros(panels.size, dtype=float)\n",
      "    a2_n = numpy.zeros(panels.size, dtype=float)\n",
      "    for i, p_i in enumerate(panels):\n",
      "        \n",
      "            a1_n[i] = numpy.sum(B_n[i,0:N/2]) \n",
      "            a2_n[i] = numpy.sum(B_n[i,N/2:])\n",
      "    \n",
      "    return a1_n , a2_n"
     ],
     "language": "python",
     "metadata": {},
     "outputs": [],
     "prompt_number": 52
    },
    {
     "cell_type": "code",
     "collapsed": false,
     "input": [
      "A_n = source_matrix_normal(panels)"
     ],
     "language": "python",
     "metadata": {},
     "outputs": [],
     "prompt_number": 53
    },
    {
     "cell_type": "code",
     "collapsed": false,
     "input": [
      "B_n = vortex_matrix_normal(panels)"
     ],
     "language": "python",
     "metadata": {},
     "outputs": [],
     "prompt_number": 54
    },
    {
     "cell_type": "code",
     "collapsed": false,
     "input": [
      "a1_n , a2_n = vortex_arrays_normal(panels, B_n)"
     ],
     "language": "python",
     "metadata": {},
     "outputs": [],
     "prompt_number": 55
    },
    {
     "cell_type": "code",
     "collapsed": false,
     "input": [
      "#Matrix A_normal (Nx(N+2))\n",
      "\n",
      "A_normal = numpy.empty((N, N+2), dtype=float)\n",
      "\n",
      "A_normal[0:N,0:N] = A_n[:,:]\n",
      "A_normal[0:N,-2] = a1_n[:]\n",
      "A_normal[0:N,-1] = a2_n[:]"
     ],
     "language": "python",
     "metadata": {},
     "outputs": [],
     "prompt_number": 56
    },
    {
     "cell_type": "markdown",
     "metadata": {},
     "source": [
      "To get the A matrix to solve the linear system and get the sources strength $\\sigma_i1$, $\\gamma_1$ and $\\gamma_2$ we need two more extra equations. So let's use the kutta condition.\n",
      "\n",
      "We know (see derivation in my notes) that $B^{n}_{ij}=A^{t}_{ij}$ and $B^{t}_{ij}=-A^{n}_{ij}$, where $t$ correspond to tangential and $n$ correspond to normal. Then we can get the $A^{t}$ and $B^{t}$ matrices (we need some elements from them to calculate the Kutta array)."
     ]
    },
    {
     "cell_type": "code",
     "collapsed": false,
     "input": [
      "def vortex_arrays_tangential(panels, A_n):\n",
      "    \"\"\"Builds the vortex array for normal matrix.\n",
      "    \n",
      "    Arguments\n",
      "    ---------\n",
      "    panels: array of panels.\n",
      "    B_n: NxN matrix (N is the number of panels). Vortex normal matrix\n",
      "    Returns\n",
      "    -------\n",
      "    a -- 1D array (Nx1, N is the number of panels).\n",
      "    \"\"\"\n",
      "    N = len(panels)\n",
      "    a1_t = numpy.zeros(panels.size, dtype=float)\n",
      "    a2_t = numpy.zeros(panels.size, dtype=float)\n",
      "    for i, p_i in enumerate(panels):\n",
      "        \n",
      "            a1_t[i] = numpy.sum(A_n[i,0:N/2]) \n",
      "            a2_t[i] = numpy.sum(A_n[i,N/2:])\n",
      "    \n",
      "    return a1_t , a2_t"
     ],
     "language": "python",
     "metadata": {},
     "outputs": [],
     "prompt_number": 57
    },
    {
     "cell_type": "code",
     "collapsed": false,
     "input": [
      "a1_t , a2_t = vortex_arrays_normal(panels, A_n)"
     ],
     "language": "python",
     "metadata": {},
     "outputs": [],
     "prompt_number": 58
    },
    {
     "cell_type": "code",
     "collapsed": false,
     "input": [
      "#Matrix A_tangential (Nx(N+2))\n",
      "\n",
      "A_tangential = numpy.empty((N, N+2), dtype=float)\n",
      "\n",
      "A_tangential[0:N,0:N] = B_n[:,:]\n",
      "A_tangential[0:N,-2] = -a1_t[:]\n",
      "A_tangential[0:N,-1] = -a2_t[:]"
     ],
     "language": "python",
     "metadata": {},
     "outputs": [],
     "prompt_number": 59
    },
    {
     "cell_type": "code",
     "collapsed": false,
     "input": [
      "#Kutta arrays\n",
      "\n",
      "k_a1 = numpy.zeros(N+2,dtype=float)\n",
      "k_a2 = numpy.zeros(N+2,dtype=float)\n",
      "\n",
      "k_a1 = A_tangential[0,:] + A_tangential[N/2-1,:]\n",
      "k_a2 = A_tangential[N/2,:] + A_tangential[N-1,:]"
     ],
     "language": "python",
     "metadata": {},
     "outputs": [],
     "prompt_number": 60
    },
    {
     "cell_type": "code",
     "collapsed": false,
     "input": [
      "#The A matrix for the linear system\n",
      "\n",
      "def build_matrix(panels, A_normal, k_a1, k_a2):\n",
      "    \"\"\"Builds the matrix of the linear system.\n",
      "    \n",
      "    Arguments\n",
      "    ---------\n",
      "    panels: array of panels.\n",
      "    A_n: matrix normal\n",
      "    k_a1: Kutta array 1\n",
      "    k_a2: Kutta array 2\n",
      "    \n",
      "    Returns\n",
      "    -------\n",
      "    A -- (N+2)x(N+2) matrix (N is the number of panels).\n",
      "    \"\"\"\n",
      "    N = len(panels)\n",
      "    A = numpy.empty((N+2, N+2), dtype=float)\n",
      "    \n",
      "    A[0:N,:] = A_normal[:,:]\n",
      "    A[-2,:] = k_a1[:]\n",
      "    A[-1,:] = k_a2[:]\n",
      "    \n",
      "    return A"
     ],
     "language": "python",
     "metadata": {},
     "outputs": [],
     "prompt_number": 61
    },
    {
     "cell_type": "code",
     "collapsed": false,
     "input": [
      "def build_rhs(panels, freestream):\n",
      "    \"\"\"Builds the RHS of the linear system.\n",
      "    \n",
      "    Arguments\n",
      "    ---------\n",
      "    panels: array of panels.\n",
      "    freestream: farfield conditions.\n",
      "    \n",
      "    Returns\n",
      "    -------\n",
      "    b: 1D array ((N+2)x1, N is the number of panels).\n",
      "    \"\"\"\n",
      "    N = len(panels)\n",
      "    b = numpy.empty(N+2,dtype=float)\n",
      "    \n",
      "    for i, panel in enumerate(panels):\n",
      "        b[i] = -freestream.U_inf * numpy.cos(freestream.alpha - panel.beta)\n",
      "    b[N] = -freestream.U_inf*( numpy.sin(freestream.alpha-panels[0].beta)\n",
      "                              +numpy.sin(freestream.alpha-panels[N/2-1].beta) )\n",
      "    b[N+1] = -freestream.U_inf*( numpy.sin(freestream.alpha-panels[N/2].beta)\n",
      "                              +numpy.sin(freestream.alpha-panels[N-1].beta) )\n",
      "    return b"
     ],
     "language": "python",
     "metadata": {},
     "outputs": [],
     "prompt_number": 62
    },
    {
     "cell_type": "code",
     "collapsed": false,
     "input": [
      "A = build_matrix(panels, A_normal, k_a1, k_a2)                 # calculates the singularity matrix\n",
      "b = build_rhs(panels, freestream)         # calculates the freestream RHS"
     ],
     "language": "python",
     "metadata": {},
     "outputs": [],
     "prompt_number": 63
    },
    {
     "cell_type": "code",
     "collapsed": false,
     "input": [
      "# solves the linear system\n",
      "variables = linalg.solve(A, b)\n",
      "\n",
      "for i, panel in enumerate(panels):\n",
      "    panel.sigma = variables[i]\n",
      "gamma1 = variables[-2]\n",
      "gamma2 = variables[-1]\n",
      "\n",
      "print gamma1\n",
      "print gamma2\n"
     ],
     "language": "python",
     "metadata": {},
     "outputs": [
      {
       "output_type": "stream",
       "stream": "stdout",
       "text": [
        "0.674910427192\n",
        "0.617965804112\n"
       ]
      }
     ],
     "prompt_number": 64
    },
    {
     "cell_type": "code",
     "collapsed": false,
     "input": [
      "def get_tangential_velocity(panels, freestream, gamma1, gamma2, A_tangential):\n",
      "    \"\"\"Computes the tangential velocity on the surface.\n",
      "    \n",
      "    Arguments\n",
      "    ---------\n",
      "    panels -- array of panels.\n",
      "    freestream -- farfield conditions.\n",
      "    gamma1 -- circulation density of airfoil.\n",
      "    gamma2 -- circulation density of flap.\n",
      "    \n",
      "    \"\"\"\n",
      "    N = len(panels)\n",
      "\n",
      "    b = freestream.U_inf * numpy.sin([freestream.alpha - panel.beta for panel in panels])\n",
      "    \n",
      "    var1 = numpy.append([panel.sigma for panel in panels], gamma1)\n",
      "    var = numpy.append(var1, gamma2)\n",
      "    \n",
      "    vt = numpy.dot(A_tangential, var) + b\n",
      "    for i, panel in enumerate(panels):\n",
      "        panel.vt = vt[i]"
     ],
     "language": "python",
     "metadata": {},
     "outputs": [],
     "prompt_number": 65
    },
    {
     "cell_type": "code",
     "collapsed": false,
     "input": [
      "get_tangential_velocity(panels, freestream, gamma1, gamma2, A_tangential)\n"
     ],
     "language": "python",
     "metadata": {},
     "outputs": [],
     "prompt_number": 66
    },
    {
     "cell_type": "code",
     "collapsed": false,
     "input": [
      "def get_pressure_coefficient(panels, freestream):\n",
      "    \"\"\"Computes the surface pressure coefficients.\n",
      "    \n",
      "    Arguments\n",
      "    ---------\n",
      "    panels -- array of panels.\n",
      "    freestream -- farfield conditions.\n",
      "    \"\"\"\n",
      "    for panel in panels:\n",
      "        panel.cp = 1.0 - (panel.vt/freestream.U_inf)**2"
     ],
     "language": "python",
     "metadata": {},
     "outputs": [],
     "prompt_number": 67
    },
    {
     "cell_type": "code",
     "collapsed": false,
     "input": [
      "# computes surface pressure coefficient\n",
      "get_pressure_coefficient(panels, freestream)"
     ],
     "language": "python",
     "metadata": {},
     "outputs": [],
     "prompt_number": 68
    },
    {
     "cell_type": "code",
     "collapsed": false,
     "input": [
      "x_air_t, cp_air_t = numpy.loadtxt('./resources/Cp_Main_theoretical.csv', delimiter=',', unpack=True)\n",
      "x_flap_t, cp_flap_t = numpy.loadtxt('./resources/Cp_Flap_theoretical.csv', delimiter=',', unpack=True)"
     ],
     "language": "python",
     "metadata": {},
     "outputs": [],
     "prompt_number": 69
    },
    {
     "cell_type": "code",
     "collapsed": false,
     "input": [
      "# plots the surface pressure coefficient\n",
      "val_x, val_y = 0.1, 0.2\n",
      "x_min, x_max = min( panel.xa for panel in panels ), max( panel.xa for panel in panels )\n",
      "cp_min, cp_max = min( panel.cp for panel in panels ), max( panel.cp for panel in panels )\n",
      "x_start, x_end = x_min-val_x*(x_max-x_min), x_max+val_x*(x_max-x_min)\n",
      "y_start, y_end = cp_min-val_y*(cp_max-cp_min), cp_max+val_y*(cp_max-cp_min)\n",
      "\n",
      "# plots the surface pressure coefficient\n",
      "N = len(panels)\n",
      "airfoil = panels[:N/2]\n",
      "flap = panels[N/2:]\n",
      "\n",
      "pyplot.figure(figsize=(10, 6))\n",
      "pyplot.grid(True)\n",
      "pyplot.xlabel('x', fontsize=16)\n",
      "pyplot.ylabel('$C_p$', fontsize=16)\n",
      "pyplot.plot([panel.xc for panel in airfoil if panel.loc == 'extrados'], \n",
      "         [panel.cp for panel in airfoil if panel.loc == 'extrados'], \n",
      "         color='r', linestyle='-', linewidth=2, marker='o', markersize=6)\n",
      "pyplot.plot([panel.xc for panel in flap if panel.loc == 'extrados'], \n",
      "         [panel.cp for panel in flap if panel.loc == 'extrados'], \n",
      "         color='r', linestyle='-', linewidth=2, marker='o', markersize=6)\n",
      "pyplot.plot([panel.xc for panel in airfoil if panel.loc == 'intrados'], \n",
      "         [panel.cp for panel in airfoil if panel.loc == 'intrados'], \n",
      "         color='b', linestyle='-', linewidth=1, marker='o', markersize=6)\n",
      "pyplot.plot([panel.xc for panel in flap if panel.loc == 'intrados'], \n",
      "         [panel.cp for panel in flap if panel.loc == 'intrados'], \n",
      "         color='b', linestyle='-', linewidth=1, marker='o', markersize=6)\n",
      "pyplot.plot(x_air_t, cp_air_t, 'k+', x_flap_t, cp_flap_t, 'k+')\n",
      "\n",
      "pyplot.xlim(x_start, x_end)\n",
      "pyplot.ylim(y_start, y_end)\n",
      "pyplot.gca().invert_yaxis()\n",
      "pyplot.title('Number of panels : %d' % Np);"
     ],
     "language": "python",
     "metadata": {},
     "outputs": [
      {
       "metadata": {},
       "output_type": "display_data",
       "png": "[encoded data removed]",
       "text": [
        "<matplotlib.figure.Figure at 0x7fd91915dc10>"
       ]
      }
     ],
     "prompt_number": 70
    },
    {
     "cell_type": "code",
     "collapsed": false,
     "input": [
      "# calculates the accuracy\n",
      "accuracy = sum([panel.sigma*panel.length for panel in panels])\n",
      "print '--> sum of source/sink strengths:', accuracy"
     ],
     "language": "python",
     "metadata": {},
     "outputs": [
      {
       "output_type": "stream",
       "stream": "stdout",
       "text": [
        "--> sum of source/sink strengths: -0.000826784259806\n"
       ]
      }
     ],
     "prompt_number": 71
    },
    {
     "cell_type": "code",
     "collapsed": false,
     "input": [
      "def get_coefficients(panels):\n",
      "    L = 0.\n",
      "    D = 0.\n",
      "    for panel in panels:\n",
      "        L -= panel.cp*panel.length*numpy.sin(panel.beta)\n",
      "        D += panel.cp*panel.length*numpy.cos(panel.beta)\n",
      "    return L, D"
     ],
     "language": "python",
     "metadata": {},
     "outputs": [],
     "prompt_number": 72
    },
    {
     "cell_type": "code",
     "collapsed": false,
     "input": [
      "L, D = get_coefficients(panels)\n",
      "\n",
      "print 'Lift:', L\n",
      "print 'Drag:', D"
     ],
     "language": "python",
     "metadata": {},
     "outputs": [
      {
       "output_type": "stream",
       "stream": "stdout",
       "text": [
        "Lift: 3.71843390868\n",
        "Drag: 0.0055835520559\n"
       ]
      }
     ],
     "prompt_number": 73
    },
    {
     "cell_type": "markdown",
     "metadata": {},
     "source": [
      "**Q1** * What is the pressure coefficient on the $3$<sup>rd</sup> panel on the *main airfoil*?"
     ]
    },
    {
     "cell_type": "code",
     "collapsed": false,
     "input": [
      "print panels[2].cp\n"
     ],
     "language": "python",
     "metadata": {},
     "outputs": [
      {
       "output_type": "stream",
       "stream": "stdout",
       "text": [
        "-0.553530359708\n"
       ]
      }
     ],
     "prompt_number": 74
    },
    {
     "cell_type": "markdown",
     "metadata": {},
     "source": [
      "**Q2** * What is the pressure coefficient on the $10$<sup>th</sup> panel on the *flap airfoil*?"
     ]
    },
    {
     "cell_type": "code",
     "collapsed": false,
     "input": [
      "print panels[N/2+9].cp\n"
     ],
     "language": "python",
     "metadata": {},
     "outputs": [
      {
       "output_type": "stream",
       "stream": "stdout",
       "text": [
        "0.262580530047\n"
       ]
      }
     ],
     "prompt_number": 75
    },
    {
     "cell_type": "markdown",
     "metadata": {},
     "source": [
      "**Q3** * What is the value of lift?\n",
      "\n",
      "**Hint:**  $L = - \\oint_{main\\ foil}p\\vec{n}\\cdot\\vec{j}dl- \\oint_{flap\\ foil}p\\vec{n}\\cdot\\vec{j}dl$)\n",
      "\n",
      "**Q4** * What is the value of lift?"
     ]
    },
    {
     "cell_type": "code",
     "collapsed": false,
     "input": [
      "print 'number of panels:', Np\n",
      "print 'Lift:', L\n",
      "print 'Drag:', D"
     ],
     "language": "python",
     "metadata": {},
     "outputs": [
      {
       "output_type": "stream",
       "stream": "stdout",
       "text": [
        "number of panels: 200\n",
        "Lift: 3.71843390868\n",
        "Drag: 0.0055835520559\n"
       ]
      }
     ],
     "prompt_number": 76
    },
    {
     "cell_type": "markdown",
     "metadata": {},
     "source": [
      "Theoretical Lift, $L=3.7386$\n",
      "\n",
      "For 100 panels, $L=3.69771447686$ and $D=0.0107914032459$.\n",
      "\n",
      "For 200 panels, $L=3.71843390868$ and $D=0.0055835520559$"
     ]
    },
    {
     "cell_type": "code",
     "collapsed": false,
     "input": [
      "abs_error_100 = numpy.abs(3.7386-3.69771447686)\n",
      "abs_error_200 = numpy.abs(3.7386-3.71843390868)"
     ],
     "language": "python",
     "metadata": {},
     "outputs": [],
     "prompt_number": 77
    },
    {
     "cell_type": "code",
     "collapsed": false,
     "input": [
      "print 'abs_error_100:', abs_error_100\n",
      "print 'abs_error_200:', abs_error_200"
     ],
     "language": "python",
     "metadata": {},
     "outputs": [
      {
       "output_type": "stream",
       "stream": "stdout",
       "text": [
        "abs_error_100: 0.04088552314\n",
        "abs_error_200: 0.02016609132\n"
       ]
      }
     ],
     "prompt_number": 78
    },
    {
     "cell_type": "code",
     "collapsed": false,
     "input": [
      "improvement = 1.- abs_error_200/abs_error_100\n",
      "print improvement*100"
     ],
     "language": "python",
     "metadata": {},
     "outputs": [
      {
       "output_type": "stream",
       "stream": "stdout",
       "text": [
        "50.6766949002\n"
       ]
      }
     ],
     "prompt_number": 83
    },
    {
     "cell_type": "code",
     "collapsed": false,
     "input": [],
     "language": "python",
     "metadata": {},
     "outputs": []
    }
   ],
   "metadata": {}
  }
 ]
}