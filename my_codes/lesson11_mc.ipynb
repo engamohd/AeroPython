{
 "metadata": {
  "name": "",
  "signature": "sha256:02ecea198a79e480da106d36f343d2fa60d86f6a8182cc5627316fb08a0dc4d1"
 },
 "nbformat": 3,
 "nbformat_minor": 0,
 "worksheets": [
  {
   "cells": [
    {
     "cell_type": "markdown",
     "metadata": {},
     "source": [
      "#Source-vortex panel method\n",
      "\n",
      "In [Lesson 10](http://nbviewer.ipython.org/urls/github.com/barbagroup/AeroPython/blob/master/lessons/10_Lesson10_sourcePanelMethod.ipynb) we used panel method for a symmetric airfoil at zero angle of attack. But what if we want the airfoil to generate some lift?. If we place the airfoil at a non-zero angle of attack, we _should_ get lift, but will a source-panel representation be able to give you lift? The answer is no, we can not have lift without circulation. (_Kutta-Joukowski theorem_)\n",
      "\n",
      "A *source-panel method* leads to a solution with no circulation, therefore no lift. The objective of this lesson is to start with the source panel method we implemented in the previous lesson and add some *circulation* so that we may have a lift force. We introduce an important concept: the **Kutta-condition** that allows us to determine what the right amount of circulation should be."
     ]
    },
    {
     "cell_type": "markdown",
     "metadata": {},
     "source": [
      "##A lifting-body panel method\n",
      "\n",
      "If we were to simply increase the angle of attack in the freestream and calculate the flow with a source sheet only, the rear stagnation point will not be located at the trailing edge. Instead, the flow will bend around the trailing edge and the stagnation point will be somewhere on the top surface of the airfoil. This is not a physically possible solution.\n",
      "\n",
      "For example, using the source-sheet panel method of [Lesson 10](http://nbviewer.ipython.org/github/barbagroup/AeroPython/blob/master/lessons/10_Lesson10_sourcePanelMethod.ipynb) with an angle of attack $\\alpha=4^\\circ$ (using 40 panels), and plotting the streamlines in an area close to the trailing edge, we get the following plot:\n",
      "\n",
      "<center><img src=\"./resources/StreamlinesTrailingEdge.png\"></center>\n",
      "\n",
      "As you can see, the streamlines behave strangely at the trailing edge. We know experimentally that the flow leaves the trailing edge of an airfoil smoothly, so this must be wrong. Well, it's just that we can't use purely sources to calculate potential flow of an airfoil at non-zero angle of attack\u2014we need circulation. But how do we obtain circulation?\n",
      "\n",
      "### The Kutta condition\n",
      "\n",
      "The *Kutta-condition* states that the pressure below and above the airfoil trailing edge must be equal so that the flow does not bend around it, but leaves tangentially. The rear stagnation point must be exactly at the trailing edge.\n",
      "\n",
      "It's natural to be a little perplexed by this. How can we justify this seemingly arbitrary condition? Remember that potential-flow theory completely ignores fluid viscosity, so if we are leaving out this physical effect, we shouldn't be surprised that the theory needs some adjustment for those situations when viscosity does play a role. A real viscous fluid is not able to turn around a sharp corner like an airfoil trailing edge without separating there. The Kutta condition allows us to correct potential-flow theory so that it gives a solution closer to reality.\n",
      "\n",
      "Remember [Lesson 6](http://nbviewer.ipython.org/github/barbagroup/AeroPython/blob/master/lessons/06_Lesson06_vortexLift.ipynb), where we studied lift on a cylinder by combining a doublet and a freestream, plus a vortex. That's when we learned that **lift always requires circulation**. If you experimented with the circulation of the point vortex, you found that the stagnation points moved along the cylinder.\n",
      "\n",
      "Like for the circular cylinder, the amount of circulation we add to an airfoil will move the stagnation points along the surface. And if we add just the right amount, the rear stagnation point can be made to coincide with the trailing edge. This amount of circulation makes the flow a physically relevant solution. And this amount gives the correct lift!\n",
      "\n",
      "To implement the Kutta-condition in our panel method we need to add one more equation to the system, giving the circulation that moves the stagnation point to the trailing edge. By placing a vortex-sheet with the same constant strength at every panel, we can add the circulation to the flow with just one more unknown.\n",
      "\n",
      "How do we enforce this in our code? We can re-use most of the code from Lesson 10, and enforce the Kutta-condition while adding circulation to the flow. Previously, we discretized the geometry into `N` panels, with a constant source strength on each one (varying from panel to panel), and applied a Neumann boundary condition of flow tangency at the `N` panel centers. This led to a linear system of `N` equations and `N` unknowns that we solved with the SciPy function `linalg.solve()`. In the lifting-body case, we will instead have `N+1` equations and `N+1` unknowns. \n"
     ]
    },
    {
     "cell_type": "code",
     "collapsed": false,
     "input": [
      "#Importing the libraries and modules we need.\n",
      "import numpy\n",
      "from scipy import integrate, linalg\n",
      "from matplotlib import pyplot\n",
      "#The next line allows as to plot directly in the notebook.\n",
      "%matplotlib inline"
     ],
     "language": "python",
     "metadata": {},
     "outputs": [],
     "prompt_number": 1
    },
    {
     "cell_type": "code",
     "collapsed": false,
     "input": [
      "# loading the geometry from a data file\n",
      "x, y = numpy.loadtxt('./resources/naca0012.dat', dtype=float, delimiter='\\t', unpack=True)\n"
     ],
     "language": "python",
     "metadata": {},
     "outputs": [],
     "prompt_number": 2
    },
    {
     "cell_type": "code",
     "collapsed": false,
     "input": [
      "#Plotting the geometry\n",
      "\n",
      "#First we'll set some parameters to have a nice plot\n",
      "val_x, val_y = 0.1, 0.2              \n",
      "\n",
      "xp_min, xp_max = x.min(), x.max()    \n",
      "yp_min, yp_max = y.min(), y.max()\n",
      "\n",
      "#limits of the plot\n",
      "xp_start, xp_end = xp_min-val_x*(xp_max-xp_min), xp_max+val_x*(xp_max-xp_min)\n",
      "yp_start, yp_end = yp_min-val_y*(yp_max-yp_min), yp_max+val_y*(yp_max-yp_min)\n",
      "\n",
      "#Plot\n",
      "size = 10\n",
      "pyplot.figure(figsize=(size, (yp_end-yp_start)/(xp_end-xp_start)*size))\n",
      "pyplot.grid(True)\n",
      "pyplot.xlabel('x', fontsize=15)\n",
      "pyplot.ylabel('y', fontsize=15)\n",
      "pyplot.xlim(xp_start, xp_end)\n",
      "pyplot.ylim(yp_start, yp_end)\n",
      "\n",
      "pyplot.plot(x, y, color='deeppink', linestyle='-', linewidth=2);\n"
     ],
     "language": "python",
     "metadata": {},
     "outputs": [
      {
       "metadata": {},
       "output_type": "display_data",
       "png": "[encoded data removed]",
       "text": [
        "<matplotlib.figure.Figure at 0x7feb02a7ecd0>"
       ]
      }
     ],
     "prompt_number": 3
    },
    {
     "cell_type": "markdown",
     "metadata": {},
     "source": [
      "The contour defining the airfoil will be partitioned into `N` panels, using the same method as in the [Lesson 10](http://nbviewer.ipython.org/github/barbagroup/AeroPython/blob/master/lessons/10_Lesson10_sourcePanelMethod.ipynb).\n",
      "\n",
      "We define a class `Panel`  that will store all information about one panel: start and end points, center point, length, orientation, source strength, tangential velocity and pressure coefficient. We don't save the vortex-sheet strength because all panels will have the same value."
     ]
    },
    {
     "cell_type": "code",
     "collapsed": false,
     "input": [
      "class Panel:\n",
      "    \"\"\"Contains information related to a panel.\"\"\"\n",
      "    def __init__(self, xa, ya, xb, yb):\n",
      "        \"\"\"Creates a panel.\n",
      "        \n",
      "        Arguments\n",
      "        ---------\n",
      "        xa, ya: Cartesian coordinates of the first end-point.\n",
      "        xb, yb: Cartesian coordinates of the second end-point.\n",
      "        \"\"\"\n",
      "        self.xa, self.ya = xa, ya\n",
      "        self.xb, self.yb = xb, yb\n",
      "        \n",
      "        self.xc, self.yc = (xa+xb)/2, (ya+yb)/2            # control-point (center-point)\n",
      "        self.length = numpy.sqrt((xb-xa)**2+(yb-ya)**2)     # length of the panel\n",
      "        \n",
      "        # orientation of the panel (angle between x-axis and panel's normal)\n",
      "        if xb-xa <= 0.:\n",
      "            self.beta = numpy.arccos((yb-ya)/self.length)\n",
      "        elif xb-xa > 0.:\n",
      "            self.beta = numpy.pi + numpy.arccos(-(yb-ya)/self.length)\n",
      "        \n",
      "        # location of the panel\n",
      "        if self.beta <= numpy.pi:\n",
      "            self.loc = 'extrados'                   #upper face\n",
      "        else:\n",
      "            self.loc = 'intrados'                   #lower face\n",
      "        \n",
      "        self.sigma = 0.                             # source strength\n",
      "        self.vt = 0.                                # tangential velocity\n",
      "        self.cp = 0.                                # pressure coefficient"
     ],
     "language": "python",
     "metadata": {},
     "outputs": [],
     "prompt_number": 4
    },
    {
     "cell_type": "markdown",
     "metadata": {},
     "source": [
      "Like before, we call the function `define_panels()` to discretize the airfoil geometry in `N` panels. The function will return a NumPy array of `N` objects of the type `Panel`."
     ]
    },
    {
     "cell_type": "code",
     "collapsed": false,
     "input": [
      "def define_panels(x ,y ,N=40):\n",
      "    \"\"\"Discretizes the geometry into panels using 'cosine' method.\n",
      "    \n",
      "    Arguments\n",
      "    ---------\n",
      "    x, y : Cartesian coordinates of the geometry (1d arrays).\n",
      "    N: number of panels (40 by default)\n",
      "    \n",
      "    Returns\n",
      "    -------\n",
      "    panels: Numpy array of panels\n",
      "    \"\"\"\n",
      "    \n",
      "    R = (x.max()-x.min())/2.                            #radius of the circle\n",
      "    x_center = (x.max()+x.min())/2.                     #x_coord of the center of the circle\n",
      "    \n",
      "    theta = numpy.linspace(0, 2*numpy.pi, N+1)          #array of angles\n",
      "    x_circle = x_center +  R*numpy.cos(theta)           #x_coord of the circle\n",
      "    \n",
      "    x_ends = numpy.copy(x_circle)                       #x_ends of the geometry panels (idem circle)\n",
      "    y_ends = numpy.empty_like(x_ends)                   #initializing the y_ends array\n",
      "    \n",
      "    x, y = numpy.append(x, x[0]), numpy.append(y, y[0])    # extend arrays using numpy.append\n",
      "    \n",
      "    # computes the y_end\n",
      "    I = 0\n",
      "    for i in range(N):\n",
      "        while I < len(x)-1:\n",
      "            if (x[I] <= x_ends[i] <= x[I+1]) or (x[I+1] <= x_ends[i] <= x[I]):\n",
      "                break\n",
      "            else:\n",
      "                I += 1\n",
      "        a = (y[I+1]-y[I])/(x[I+1]-x[I])\n",
      "        b = y[I+1] - a*x[I+1]\n",
      "        y_ends[i] = a*x_ends[i] + b\n",
      "    y_ends[N] = y_ends[0]\n",
      "    \n",
      "    panels = numpy.empty(N, dtype=object)\n",
      "    for i in range(N):\n",
      "        panels[i] = Panel(x_ends[i], y_ends[i], x_ends[i+1], y_ends[i+1])\n",
      "    \n",
      "    return panels    "
     ],
     "language": "python",
     "metadata": {},
     "outputs": [],
     "prompt_number": 5
    },
    {
     "cell_type": "markdown",
     "metadata": {},
     "source": [
      "Now we can use this function, calling it with a desired number of panels."
     ]
    },
    {
     "cell_type": "code",
     "collapsed": false,
     "input": [
      "N = 40                            # number of panels\n",
      "panels = define_panels(x, y, N)   # discretizes of the geometry into panels"
     ],
     "language": "python",
     "metadata": {},
     "outputs": [],
     "prompt_number": 6
    },
    {
     "cell_type": "code",
     "collapsed": false,
     "input": [
      "#Plotting the geometry\n",
      "\n",
      "#First we'll set some parameters to have a nice plot\n",
      "val_x, val_y = 0.1, 0.2              \n",
      "\n",
      "xp_min, xp_max = min(panel.xa for panel in panels) , max(panel.xa for panel in panels)    \n",
      "yp_min, yp_max = min(panel.ya for panel in panels) , max(panel.ya for panel in panels)    \n",
      "\n",
      "#limits of the plot\n",
      "xp_start, xp_end = xp_min-val_x*(xp_max-xp_min), xp_max+val_x*(xp_max-xp_min)\n",
      "yp_start, yp_end = yp_min-val_y*(yp_max-yp_min), yp_max+val_y*(yp_max-yp_min)\n",
      "\n",
      "#Plot\n",
      "size = 10\n",
      "pyplot.figure(figsize=(size, (yp_end-yp_start)/(xp_end-xp_start)*size))\n",
      "pyplot.grid(True)\n",
      "pyplot.xlabel('x', fontsize=15)\n",
      "pyplot.ylabel('y', fontsize=15)\n",
      "pyplot.xlim(xp_start, xp_end)\n",
      "pyplot.ylim(yp_start, yp_end)\n",
      "\n",
      "pyplot.plot(x, y, color='deeppink', linestyle='-', linewidth=2);\n",
      "\n",
      "pyplot.plot(numpy.append([panel.xa for panel in panels], panels[0].xa), \n",
      "         numpy.append([panel.ya for panel in panels], panels[0].ya), \n",
      "         linestyle='-', linewidth=1, marker='o', markersize=6, color='#483D8B');"
     ],
     "language": "python",
     "metadata": {},
     "outputs": [
      {
       "metadata": {},
       "output_type": "display_data",
       "png": "[encoded data removed]",
       "text": [
        "<matplotlib.figure.Figure at 0x7feb029f0c50>"
       ]
      }
     ],
     "prompt_number": 7
    },
    {
     "cell_type": "markdown",
     "metadata": {},
     "source": [
      "##Free stream conditions\n",
      "\n",
      "The airfoil is immersed in a free-stream ($U_\\infty$,$\\alpha$) where $U_\\infty$ and $\\alpha$ are the velocity magnitude and angle of attack, respectively. Like before, we create a class for the free stream, even though we will only have one object that uses this class. It makes it easier to pass the free stream to other functions later on."
     ]
    },
    {
     "cell_type": "code",
     "collapsed": false,
     "input": [
      "class Freestream:\n",
      "    \"\"\"Freestream conditions.\"\"\"\n",
      "    def __init__(self, U_inf=1.0, alpha=0.0):\n",
      "        \"\"\"Sets the freestream conditions.\n",
      "        \n",
      "        Arguments\n",
      "        ---------\n",
      "        U_inf: Farfield speed (default 1.0).\n",
      "        alpha: Angle of attack in degrees (default 0.0).\n",
      "        \"\"\"\n",
      "        self.U_inf = U_inf\n",
      "        self.alpha = alpha*numpy.pi/180          # degrees to radians"
     ],
     "language": "python",
     "metadata": {},
     "outputs": [],
     "prompt_number": 8
    },
    {
     "cell_type": "code",
     "collapsed": false,
     "input": [
      "# defines and creates the object freestream\n",
      "U_inf = 1.0                                # freestream speed\n",
      "alpha = 4.0                                # angle of attack (in degrees)\n",
      "freestream = Freestream(U_inf, alpha)      # instantiation of the object freestream"
     ],
     "language": "python",
     "metadata": {},
     "outputs": [],
     "prompt_number": 9
    },
    {
     "cell_type": "markdown",
     "metadata": {},
     "source": [
      "##Flow tangency boundary condition\n",
      "\n",
      "A constant vortex strength $\\gamma$ will be added to each panel (all panels have the same, constant vortex-sheet strength). Thus, using the principle of superposition, the velocity potential becomes:\n",
      "\n",
      "$$\n",
      "\\begin{align*}\n",
      "\\phi\\left(x_{c_i},y_{c_i}\\right) &= V_\\infty x_{c_i} \\cos \\alpha + V_\\infty y_{c_i} \\sin \\alpha \\\\\n",
      "&+ \\sum_{j=1}^N \\frac{\\sigma_j}{2\\pi} \\int_j \\ln \\left(\\sqrt{(x_{c_i}-x_j(s_j))^2+(y_{c_i}-y_j(s_j))^2} \\right) {\\rm d}s_j \\\\\n",
      "&- \\sum_{j=1}^N \\frac{\\gamma}{2\\pi} \\int_j \\tan^{-1} \\left(\\frac{y_{c_i}-y_j(s_j)}{x_{c_i}-x_j(s_j)}\\right) {\\rm d}s_j\n",
      "\\end{align*}\n",
      "$$\n",
      "\n",
      "The flow tangency boundary condition is applied at every panel center:\n",
      "\n",
      "$$0 = \\vec{V}\\cdot\\vec{n}_i = \\frac{\\partial}{\\partial n_i} \\left\\{ \\phi\\left(x_{c_i},y_{c_i}\\right) \\right\\}$$\n",
      "\n",
      "i.e.\n",
      "\n",
      "$$\n",
      "\\begin{align*}\n",
      "0 &= V_\\infty \\cos \\left(\\alpha-\\beta_i\\right) + \\frac{\\sigma_i}{2} \\\\\n",
      "&+ \\sum_{j=1,j\\neq i}^N \\frac{\\sigma_j}{2\\pi} \\int_j \\frac{\\partial}{\\partial n_i} \\ln \\left(\\sqrt{(x_{c_i}-x_j(s_j))^2+(y_{c_i}-y_j(s_j))^2} \\right) {\\rm d}s_j \\\\\n",
      "&- \\sum_{j=1,j\\neq i}^N \\frac{\\gamma}{2\\pi} \\int_j \\frac{\\partial}{\\partial n_i} \\tan^{-1} \\left(\\frac{y_{c_i}-y_j(s_j)}{x_{c_i}-x_j(s_j)}\\right) {\\rm d}s_j\n",
      "\\end{align*}\n",
      "$$\n",
      "\n",
      "We already worked the first integral in the previous lesson:\n",
      "\n",
      "$$\\frac{\\partial}{\\partial n_i} \\ln \\left(\\sqrt{(x_{c_i}-x_j(s_j))^2+(y_{c_i}-y_j(s_j))^2} \\right) = \\frac{\\left(x_{c_i}-x_j\\right)\\frac{\\partial x_{c_i}}{\\partial n_i} + \\left(y_{c_i}-y_j\\right)\\frac{\\partial y_{c_i}}{\\partial n_i}}{\\left(x_{c_i}-x_j\\right)^2 + \\left(x_{c_i}-x_j\\right)^2}$$\n",
      "\n",
      "where $\\frac{\\partial x_{c_i}}{\\partial n_i} = \\cos \\beta_i$ and $\\frac{\\partial y_{c_i}}{\\partial n_i} = \\sin \\beta_i$, and:\n",
      "\n",
      "$$x_j(s_j) = x_{b_j} - s_j \\sin \\beta_j$$\n",
      "\n",
      "$$y_j(s_j) = y_{b_j} + s_j \\cos \\beta_j$$\n",
      "\n",
      "We now need to derive the last integral of the boundary equation:\n",
      "\n",
      "$$\\frac{\\partial}{\\partial n_i} \\tan^{-1} \\left(\\frac{y_{c_i}-y_j(s_j)}{x_{c_i}-x_j(s_j)}\\right)= \\frac{\\left(x_{c_i}-x_j\\right)\\frac{\\partial y_{c_i}}{\\partial n_i} - \\left(y_{c_i}-y_j\\right)\\frac{\\partial x_{c_i}}{\\partial n_i}}{\\left(x_{c_i}-x_j\\right)^2 + \\left(y_{c_i}-y_j\\right)^2}$$\n",
      "\n",
      "where $\\frac{\\partial x_{c_i}}{\\partial n_i} = \\cos \\beta_i$ and $\\frac{\\partial y_{c_i}}{\\partial n_i} = \\sin \\beta_i$."
     ]
    },
    {
     "cell_type": "markdown",
     "metadata": {},
     "source": [
      "##Enforcing the Kutta condition\n",
      "\n",
      "To enforce the *Kutta-condition*, we state that the pressure coefficient on the fisrt panel must be equal to that on the last panel:\n",
      "\n",
      "$$C_{p_1} = C_{p_{N}}$$\n",
      "\n",
      "Using the definition of the pressure coefficient $C_p = 1-\\left(\\frac{V}{U_\\infty}\\right)^2$, the Kutta-condition implies that the magnitude of the velocity at the first panel center must equal the magnitude of the last panel center:\n",
      "\n",
      "$$V_1^2 = V_N^2$$\n",
      "\n",
      "Since the flow tangency condition requires that $V_{n_1} = V_{n_N} = 0$, we end up with the following *Kutta-condition*:\n",
      "\n",
      "$$V_{t_1} = - V_{t_N}$$\n",
      "\n",
      "(the minus sign comes from the reference axis we chose for the normal and tangential vectors).\n"
     ]
    },
    {
     "cell_type": "markdown",
     "metadata": {},
     "source": [
      "Let's derive the tangential velocity for every panel, since it will be useful to compute the pressure coefficient.\n",
      "\n",
      "$$V_{t_i} = \\frac{\\partial}{\\partial t_i} \\left(\\phi\\left(x_{c_i},y_{c_i}\\right)\\right)$$\n",
      "\n",
      "i.e.,\n",
      "\n",
      "$$\n",
      "\\begin{align*}\n",
      "V_{t_i} &= V_\\infty \\sin \\left(\\alpha-\\beta_i\\right) \\\\\n",
      "&+ \\sum_{j=1,j\\neq i}^N \\frac{\\sigma_j}{2\\pi} \\int_j \\frac{\\partial}{\\partial t_i} \\ln \\left(\\sqrt{(x_{c_i}-x_j(s_j))^2+(y_{c_i}-y_j(s_j))^2} \\right) {\\rm d}s_j \\\\\n",
      "&- \\sum_{j=1,j\\neq i}^N \\frac{\\gamma}{2\\pi} \\int_j \\frac{\\partial}{\\partial t_i} \\tan^{-1} \\left(\\frac{y_{c_i}-y_j(s_j)}{x_{c_i}-x_j(s_j)}\\right) {\\rm d}s_j \\\\\n",
      "&-\\frac{\\gamma}{2}\n",
      "\\end{align*}\n",
      "$$\n",
      "\n",
      "\n",
      "which gives\n",
      "\n",
      "$$\n",
      "\\begin{align*}\n",
      "V_{t_i} &= V_\\infty \\sin \\left(\\alpha-\\beta_i\\right) \\\\\n",
      "&+ \\sum_{j=1,j\\neq i}^N \\frac{\\sigma_j}{2\\pi} \\int_j \\frac{\\left(x_{c_i}-x_j\\right)\\frac{\\partial x_{c_i}}{\\partial t_i} + \\left(y_{c_i}-y_j\\right)\\frac{\\partial y_{c_i}}{\\partial t_i}}{\\left(x_{c_i}-x_j\\right)^2 + \\left(x_{c_i}-x_j\\right)^2} {\\rm d}s_j \\\\\n",
      "&- \\sum_{j=1,j\\neq i}^N \\frac{\\gamma}{2\\pi} \\int_j \\frac{\\left(x_{c_i}-x_j\\right)\\frac{\\partial y_{c_i}}{\\partial t_i} - \\left(y_{c_i}-y_j\\right)\\frac{\\partial x_{c_i}}{\\partial t_i}}{\\left(x_{c_i}-x_j\\right)^2 + \\left(x_{c_i}-x_j\\right)^2} {\\rm d}s_j \\\\\n",
      "&-\\frac{\\gamma}{2}\n",
      "\\end{align*}\n",
      "$$\n",
      "\n",
      "where $\\frac{\\partial x_{c_i}}{\\partial t_i} = -\\sin \\beta_i$ and $\\frac{\\partial y_{c_i}}{\\partial t_i} = \\cos \\beta_i$."
     ]
    },
    {
     "cell_type": "markdown",
     "metadata": {},
     "source": [
      "(The derivation of the matrix elements when $i=j$ are in my notebook, to solve this we follow the idea from this [link](http://www.dept.aoe.vt.edu/~mason/Mason_f/CAtxtChap4.pdf) where we move to local coordinates to do the integration)"
     ]
    },
    {
     "cell_type": "markdown",
     "metadata": {},
     "source": [
      "##Building the linear system\n",
      "\n",
      "Here, we build and solve the linear system of equations of the form\n",
      "\n",
      "$$[A][\\sigma,\\gamma] = [b]$$\n",
      "\n",
      "where the $N+1 \\times N+1$ matrix $[A]$ contains three blocks: an $N \\times N$ source matrix (the same one of Lesson 10), an $N \\times 1$ vortex array to store the weight of the variable $\\gamma$ at each panel, and a $1 \\times N+1$ Kutta array that repesents our Kutta-condition.\n",
      "\n",
      "We are going to re-use the function `integral()` from Lesson 10 to compute the different integrals with the NumPy function `integrate.quad()`:"
     ]
    },
    {
     "cell_type": "code",
     "collapsed": false,
     "input": [
      "def integral(x, y, panel, dxdk, dydk):\n",
      "    \"\"\"Evaluates the contribution of a panel at one point.\n",
      "    \n",
      "    Arguments\n",
      "    ---------\n",
      "    x, y: Cartesian coordinates of the point.\n",
      "    panel: panel which contribution is evaluated.\n",
      "    dxdk: derivative of x in the z-direction.\n",
      "    dydk:  derivative of y in the z-direction.\n",
      "    \n",
      "    Returns\n",
      "    -------\n",
      "    Integral over the panel of the influence at one point.\n",
      "    \"\"\"\n",
      "    def func(s):\n",
      "        return ( ((x - (panel.xa - numpy.sin(panel.beta)*s))*dxdk\n",
      "                  +(y - (panel.ya + numpy.cos(panel.beta)*s))*dydk)\n",
      "                / ((x - (panel.xa - numpy.sin(panel.beta)*s))**2\n",
      "                   +(y - (panel.ya + numpy.cos(panel.beta)*s))**2) )\n",
      "    return integrate.quad(lambda s:func(s), 0., panel.length)[0]"
     ],
     "language": "python",
     "metadata": {},
     "outputs": [],
     "prompt_number": 10
    },
    {
     "cell_type": "code",
     "collapsed": false,
     "input": [
      "#Let's build the source matrix (normal) \n",
      "#Let's calculate also the array we need for Kutta condition\n",
      "def source_matrix_normal(panels):\n",
      "    \"\"\"Builds the source matrix.\n",
      "    \n",
      "    Arguments\n",
      "    ---------\n",
      "    panels: array of panels.\n",
      "    \n",
      "    Returns\n",
      "    -------\n",
      "    A: NxN matrix (N is the number of panels).\n",
      "    sa: 1D array (Nx1, N is the number of panels).\n",
      "    \"\"\"\n",
      "    N = len(panels)\n",
      "    A_n = numpy.empty((N, N), dtype=float)\n",
      "    sa = numpy.zeros(panels.size, dtype=float)\n",
      "    numpy.fill_diagonal(A_n, 0.5)\n",
      "    \n",
      "    for i, p_i in enumerate(panels):\n",
      "        for j, p_j in enumerate(panels):\n",
      "            if i != j:\n",
      "                A_n[i,j] = 0.5/numpy.pi*integral(p_i.xc, p_i.yc, p_j, numpy.cos(p_i.beta), numpy.sin(p_i.beta))\n",
      "                sa[i] += 0.5/numpy.pi*integral(p_i.xc, p_i.yc, p_j, numpy.cos(p_i.beta), numpy.sin(p_i.beta))\n",
      "\n",
      "    return A_n , (sa + 0.5)  #we add 1/2 cause this is the contribution for the i=j and we skip it in the calculation of sa\n"
     ],
     "language": "python",
     "metadata": {},
     "outputs": [],
     "prompt_number": 11
    },
    {
     "cell_type": "code",
     "collapsed": false,
     "input": [
      "#Let's build the vortex matrix (normal), we need it to calculate \n",
      "#some source tangential elements, for the Kutta condition\n",
      "#Also we calculate the vortex array \n",
      "\n",
      "def vortex_matrix_normal(panels):\n",
      "    \"\"\"Builds the vortex matrix.\n",
      "    \n",
      "    Arguments\n",
      "    ---------\n",
      "    panels: array of panels.\n",
      "    \n",
      "    Returns\n",
      "    -------\n",
      "    B: NxN matrix (N is the number of panels).\n",
      "    va: 1D array (Nx1, N is the number of panels).\n",
      "\n",
      "    \"\"\"\n",
      "    N = len(panels)\n",
      "    B_n = numpy.empty((N, N), dtype=float)\n",
      "    va = numpy.zeros(panels.size, dtype=float)\n",
      "    numpy.fill_diagonal(B_n, 0.)\n",
      "    \n",
      "    for i, p_i in enumerate(panels):\n",
      "        for j, p_j in enumerate(panels):\n",
      "            if i != j:\n",
      "                B_n[i,j] = -0.5/numpy.pi*integral(p_i.xc, p_i.yc, p_j, numpy.sin(p_i.beta), -numpy.cos(p_i.beta))\n",
      "                va[i] -= 0.5/numpy.pi*integral(p_i.xc, p_i.yc, p_j, numpy.sin(p_i.beta), -numpy.cos(p_i.beta))\n",
      "    \n",
      "    return B_n , va\n"
     ],
     "language": "python",
     "metadata": {},
     "outputs": [],
     "prompt_number": 12
    },
    {
     "cell_type": "markdown",
     "metadata": {},
     "source": [
      "We know (see derivation in my notes) that $B^{n}_{ij}=A^{t}_{ij}$ and $B^{t}_{ij}=-A^{n}_{ij}$, where $t$ correspond to tangential and $n$ correspond to normal. Then we can get the $A^{t}$ and $B^{t}$ matrices (we need some elements from them to calculate the Kutta array). \n",
      "\n",
      "We can also write (see derivation in my notes) the extra equation that kutta condition provides as:\n",
      "\n",
      "\\begin{equation}\n",
      "\\begin{split}\n",
      "&\\left[\\begin{matrix} (A^t_{11}+A^t_{N1}) && ... && (A^t_{1N}+A^t_{NN}) && \\left(\\sum_{j=1}^N (B^t_{1j}+B^t_{Nj})\\right) \\end{matrix}\\right]\\left[\\begin{matrix} \\sigma_1 \\\\ \\sigma_2 \\\\ \\vdots \\\\ \\sigma_N \\\\ \\gamma \\end{matrix}\\right]\n",
      "=-(b^t_1+b^t_N) \\\\\n",
      "&\\ \\ \n",
      "\\end{split}\n",
      "\\end{equation}"
     ]
    },
    {
     "cell_type": "code",
     "collapsed": false,
     "input": [
      "A_n, ta = source_matrix_normal(panels)\n",
      "\n",
      "B_n, va = vortex_matrix_normal(panels)\n"
     ],
     "language": "python",
     "metadata": {},
     "outputs": [],
     "prompt_number": 13
    },
    {
     "cell_type": "code",
     "collapsed": false,
     "input": [
      "#Let's build the Kutta array, LHS of the above equation \n",
      "\n",
      "#Let a_t1 the first row of the A tangential matrix\n",
      "\n",
      "a_t1 = B_n[0][:]\n",
      "#print numpy.shape(a_t1)\n",
      "a_t1_le = -ta[0]          #le = last element, \n",
      "                               \n",
      "#Let a_tN the last row of the A tangential matrix\n",
      "\n",
      "a_tN = B_n[N-1][:]\n",
      "#print numpy.shape(a_tN)\n",
      "a_tN_le = -ta[N-1]           #le = last element \n",
      "\n",
      "#Kutta array\n",
      "\n",
      "k_a = numpy.empty(N+1, dtype=float)\n",
      "k_a[0:N] = a_t1 + a_tN\n",
      "k_a[N] = a_t1_le + a_tN_le\n"
     ],
     "language": "python",
     "metadata": {},
     "outputs": [],
     "prompt_number": 14
    },
    {
     "cell_type": "code",
     "collapsed": false,
     "input": [
      "print k_a[N]\n",
      "print k_a[0]"
     ],
     "language": "python",
     "metadata": {},
     "outputs": [
      {
       "output_type": "stream",
       "stream": "stdout",
       "text": [
        "-2.82894990327\n",
        "-0.158294341796\n"
       ]
      }
     ],
     "prompt_number": 15
    },
    {
     "cell_type": "code",
     "collapsed": false,
     "input": [
      "def build_matrix(panels, A_n, va, k_a):\n",
      "    \"\"\"Builds the matrix of the linear system.\n",
      "    \n",
      "    Arguments\n",
      "    ---------\n",
      "    panels: array of panels.\n",
      "    A_n: source matrix normal\n",
      "    va: vortex array\n",
      "    k_a: Kutta array\n",
      "    \n",
      "    Returns\n",
      "    -------\n",
      "    A -- (N+1)x(N+1) matrix (N is the number of panels).\n",
      "    \"\"\"\n",
      "    N = len(panels)\n",
      "    A = numpy.empty((N+1, N+1), dtype=float)\n",
      "    \n",
      "    A[0:N,0:N], A[0:N,N], A[N,:] = A_n[:,:], va[:], k_a[:]\n",
      "    \n",
      "    return A"
     ],
     "language": "python",
     "metadata": {},
     "outputs": [],
     "prompt_number": 16
    },
    {
     "cell_type": "markdown",
     "metadata": {},
     "source": [
      "On the right hand-side, we store the free-stream conditions that do not depend on the unknowns strengths:"
     ]
    },
    {
     "cell_type": "code",
     "collapsed": false,
     "input": [
      "def build_rhs(panels, freestream):\n",
      "    \"\"\"Builds the RHS of the linear system.\n",
      "    \n",
      "    Arguments\n",
      "    ---------\n",
      "    panels: array of panels.\n",
      "    freestream: farfield conditions.\n",
      "    \n",
      "    Returns\n",
      "    -------\n",
      "    b: 1D array ((N+1)x1, N is the number of panels).\n",
      "    \"\"\"\n",
      "    N = len(panels)\n",
      "    b = numpy.empty(N+1,dtype=float)\n",
      "    \n",
      "    for i, panel in enumerate(panels):\n",
      "        b[i] = -freestream.U_inf * numpy.cos(freestream.alpha - panel.beta)\n",
      "    b[N] = -freestream.U_inf*( numpy.sin(freestream.alpha-panels[0].beta)\n",
      "                              +numpy.sin(freestream.alpha-panels[N-1].beta) )\n",
      "    \n",
      "    return b"
     ],
     "language": "python",
     "metadata": {},
     "outputs": [],
     "prompt_number": 17
    },
    {
     "cell_type": "code",
     "collapsed": false,
     "input": [
      "A = build_matrix(panels, A_n, va, k_a)                  # calculates the singularity matrix\n",
      "b = build_rhs(panels, freestream)         # calculates the freestream RHS"
     ],
     "language": "python",
     "metadata": {},
     "outputs": [],
     "prompt_number": 18
    },
    {
     "cell_type": "code",
     "collapsed": false,
     "input": [
      "print A[0,0]\n",
      "print A[N,N]\n",
      "print A[5,10]"
     ],
     "language": "python",
     "metadata": {},
     "outputs": [
      {
       "output_type": "stream",
       "stream": "stdout",
       "text": [
        "0.5\n",
        "-2.82894990327\n",
        "0.00090979576535\n"
       ]
      }
     ],
     "prompt_number": 19
    },
    {
     "cell_type": "code",
     "collapsed": false,
     "input": [
      "print b[0]\n",
      "print b[N]"
     ],
     "language": "python",
     "metadata": {},
     "outputs": [
      {
       "output_type": "stream",
       "stream": "stdout",
       "text": [
        "-0.390808953352\n",
        "-0.0454321254933\n"
       ]
      }
     ],
     "prompt_number": 20
    },
    {
     "cell_type": "markdown",
     "metadata": {},
     "source": [
      "The linear system is then solved using the NumPy function `linalg.solve()`and we store the results in the attribute `sigma` of each object. We also create a variable `gamma` to store the value of the constant vortex strength. "
     ]
    },
    {
     "cell_type": "code",
     "collapsed": false,
     "input": [
      "# solves the linear system\n",
      "variables = linalg.solve(A, b)\n",
      "\n",
      "for i, panel in enumerate(panels):\n",
      "    panel.sigma = variables[i]\n",
      "gamma = variables[-1]"
     ],
     "language": "python",
     "metadata": {},
     "outputs": [],
     "prompt_number": 21
    },
    {
     "cell_type": "code",
     "collapsed": false,
     "input": [
      "print gamma\n",
      "print variables[0]"
     ],
     "language": "python",
     "metadata": {},
     "outputs": [
      {
       "output_type": "stream",
       "stream": "stdout",
       "text": [
        "0.124181629633\n",
        "-0.679577264116\n"
       ]
      }
     ],
     "prompt_number": 22
    },
    {
     "cell_type": "markdown",
     "metadata": {},
     "source": [
      "##Surface pressure coefficient\n",
      "\n",
      "The pressure coefficient at the $i$-th panel center is:\n",
      "\n",
      "$$C_{p_i} = 1 - \\left(\\frac{V_{t_i}}{U_\\infty}\\right)^2$$\n",
      "\n",
      "So, we have to compute the tangential velocity at each panel center using the function `get_tangential_velocity()`:"
     ]
    },
    {
     "cell_type": "code",
     "collapsed": false,
     "input": [
      "def get_tangential_velocity(panels, freestream, gamma, B_n, ta):\n",
      "    \"\"\"Computes the tangential velocity on the surface.\n",
      "    \n",
      "    Arguments\n",
      "    ---------\n",
      "    panels -- array of panels.\n",
      "    freestream -- farfield conditions.\n",
      "    gamma -- circulation density.\n",
      "    B_n: normal vortex matrix\n",
      "    ta: vector we need (change definition)\n",
      "    \"\"\"\n",
      "    N = len(panels)\n",
      "    A_t = numpy.empty((N, N+1), dtype=float)\n",
      "    numpy.fill_diagonal(A_t, 0.0)\n",
      "    \n",
      "    A_t[0:,0:N], A_t[0:,N] = B_n[:,:], -ta[:]\n",
      "    \n",
      "    b = freestream.U_inf * numpy.sin([freestream.alpha - panel.beta for panel in panels])\n",
      "    \n",
      "    var = numpy.append([panel.sigma for panel in panels], gamma)\n",
      "    \n",
      "    vt = numpy.dot(A_t, var) + b\n",
      "    for i, panel in enumerate(panels):\n",
      "        panel.vt = vt[i]"
     ],
     "language": "python",
     "metadata": {},
     "outputs": [],
     "prompt_number": 23
    },
    {
     "cell_type": "code",
     "collapsed": false,
     "input": [
      "# computes the tangential velocity at each panel center.\n",
      "get_tangential_velocity(panels, freestream, gamma, B_n, ta)"
     ],
     "language": "python",
     "metadata": {},
     "outputs": [],
     "prompt_number": 24
    },
    {
     "cell_type": "code",
     "collapsed": false,
     "input": [
      "def get_pressure_coefficient(panels, freestream):\n",
      "    \"\"\"Computes the surface pressure coefficients.\n",
      "    \n",
      "    Arguments\n",
      "    ---------\n",
      "    panels -- array of panels.\n",
      "    freestream -- farfield conditions.\n",
      "    \"\"\"\n",
      "    for panel in panels:\n",
      "        panel.cp = 1.0 - (panel.vt/freestream.U_inf)**2"
     ],
     "language": "python",
     "metadata": {},
     "outputs": [],
     "prompt_number": 25
    },
    {
     "cell_type": "code",
     "collapsed": false,
     "input": [
      "# computes surface pressure coefficient\n",
      "get_pressure_coefficient(panels, freestream)"
     ],
     "language": "python",
     "metadata": {},
     "outputs": [],
     "prompt_number": 26
    },
    {
     "cell_type": "code",
     "collapsed": false,
     "input": [
      "# plots the surface pressure coefficient\n",
      "val_x, val_y = 0.1, 0.2\n",
      "x_min, x_max = min( panel.xa for panel in panels ), max( panel.xa for panel in panels )\n",
      "cp_min, cp_max = min( panel.cp for panel in panels ), max( panel.cp for panel in panels )\n",
      "x_start, x_end = x_min-val_x*(x_max-x_min), x_max+val_x*(x_max-x_min)\n",
      "y_start, y_end = cp_min-val_y*(cp_max-cp_min), cp_max+val_y*(cp_max-cp_min)\n",
      "\n",
      "pyplot.figure(figsize=(10, 6))\n",
      "pyplot.grid(True)\n",
      "pyplot.xlabel('x', fontsize=16)\n",
      "pyplot.ylabel('$C_p$', fontsize=16)\n",
      "pyplot.plot([panel.xc for panel in panels if panel.loc == 'extrados'], \n",
      "         [panel.cp for panel in panels if panel.loc == 'extrados'], \n",
      "         color='r', linestyle='-', linewidth=2, marker='o', markersize=6)\n",
      "pyplot.plot([panel.xc for panel in panels if panel.loc == 'intrados'], \n",
      "         [panel.cp for panel in panels if panel.loc == 'intrados'], \n",
      "         color='b', linestyle='-', linewidth=1, marker='o', markersize=6)\n",
      "pyplot.legend(['extrados', 'intrados'], loc='best', prop={'size':14})\n",
      "pyplot.xlim(x_start, x_end)\n",
      "pyplot.ylim(y_start, y_end)\n",
      "pyplot.gca().invert_yaxis()\n",
      "pyplot.title('Number of panels : %d' % N);"
     ],
     "language": "python",
     "metadata": {},
     "outputs": [
      {
       "metadata": {},
       "output_type": "display_data",
       "png": "[encoded data removed]",
       "text": [
        "<matplotlib.figure.Figure at 0x7feb028e9510>"
       ]
      }
     ],
     "prompt_number": 30
    },
    {
     "cell_type": "markdown",
     "metadata": {},
     "source": [
      "###Accuracy check\n",
      "\n",
      "For a closed body, the sum of all the source strengths must be zero. If not, it means the body would be adding or absorbing mass from the flow! Therfore, we should have\n",
      "\n",
      "$$\\sum_{i=1}^{N} \\sigma_i l_i = 0$$\n",
      "\n",
      "where $l_i$ is the length of the $i^{\\text{th}}$ panel.\n",
      "\n",
      "With this, we can get a measure of the accuracy of the source panel method."
     ]
    },
    {
     "cell_type": "code",
     "collapsed": false,
     "input": [
      "# calculates the accuracy\n",
      "accuracy = sum([panel.sigma*panel.length for panel in panels])\n",
      "print '--> sum of source/sink strengths:', accuracy"
     ],
     "language": "python",
     "metadata": {},
     "outputs": [
      {
       "output_type": "stream",
       "stream": "stdout",
       "text": [
        "--> sum of source/sink strengths: 0.00460578431939\n"
       ]
      }
     ],
     "prompt_number": 28
    },
    {
     "cell_type": "markdown",
     "metadata": {},
     "source": [
      "##Lift coefficient\n",
      "\n",
      "The lift  is given by the Kutta-Joukowski theorem, $L = \\rho \\Gamma U_\\infty$, \n",
      "where $\\rho$ is the fluid density. The total circulation $\\Gamma$ is given by:\n",
      "\n",
      "$$\\Gamma = \\sum_{i=1}^N \\gamma l_i$$\n",
      "\n",
      "Finally, the lift coefficient is given by:\n",
      "\n",
      "$$C_l = \\frac{\\sum_{i=1}^N \\gamma l_i}{\\frac{1}{2}U_\\infty c}$$\n",
      "\n",
      " with $c$ the chord-length of the airoil"
     ]
    },
    {
     "cell_type": "code",
     "collapsed": false,
     "input": [
      "# calculates of the lift\n",
      "cl = gamma*sum(panel.length for panel in panels)/(0.5*freestream.U_inf*(x_max-x_min))\n",
      "print '--> Lift coefficient: Cl = %.3f' % cl"
     ],
     "language": "python",
     "metadata": {},
     "outputs": [
      {
       "output_type": "stream",
       "stream": "stdout",
       "text": [
        "--> Lift coefficient: Cl = 0.506\n"
       ]
      }
     ],
     "prompt_number": 31
    },
    {
     "cell_type": "markdown",
     "metadata": {},
     "source": [
      "###Challange task\n",
      "\n",
      "Based on what has been done in the previous notebook, compute and plot the streamlines and the pressure coefficient on a Cartesian grid.\n",
      "\n",
      "(Pending)"
     ]
    },
    {
     "cell_type": "code",
     "collapsed": false,
     "input": [],
     "language": "python",
     "metadata": {},
     "outputs": []
    }
   ],
   "metadata": {}
  }
 ]
}